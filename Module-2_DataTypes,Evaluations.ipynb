{
 "cells": [
  {
   "cell_type": "code",
   "execution_count": 3,
   "id": "051cfdbc",
   "metadata": {},
   "outputs": [
    {
     "name": "stdout",
     "output_type": "stream",
     "text": [
      "whats the temp outside?32\n",
      "89.6\n"
     ]
    }
   ],
   "source": [
    "temp_c = input('whats the temp outside?')\n",
    "temp_f = float(temp_c) * 1.8 + 32\n",
    "print(temp_f)"
   ]
  },
  {
   "cell_type": "code",
   "execution_count": null,
   "id": "9cb54d6f",
   "metadata": {},
   "outputs": [],
   "source": [
    "float()\n",
    "int()\n",
    "str()"
   ]
  },
  {
   "cell_type": "code",
   "execution_count": 4,
   "id": "0b571af1",
   "metadata": {},
   "outputs": [
    {
     "name": "stdout",
     "output_type": "stream",
     "text": [
      "How many hours did you work last month? 30\n",
      "What is your hourly rate? 10.5\n",
      "Last month, you earned 315.0 dollars\n"
     ]
    }
   ],
   "source": [
    "hours = float(input('How many hours did you work last month? '))\n",
    "hourly_rate=float(input('What is your hourly rate? '))\n",
    "\n",
    "print('Last month, you earned',hours * hourly_rate,'dollars')"
   ]
  },
  {
   "cell_type": "code",
   "execution_count": 5,
   "id": "89fb622c",
   "metadata": {},
   "outputs": [
    {
     "name": "stdout",
     "output_type": "stream",
     "text": [
      "0.30000000000000004\n"
     ]
    }
   ],
   "source": [
    "print(0.1 + 0.1 + 0.1) #  limited precision as the data is stored in binary "
   ]
  },
  {
   "cell_type": "code",
   "execution_count": 6,
   "id": "334045ac",
   "metadata": {},
   "outputs": [
    {
     "data": {
      "text/plain": [
       "256"
      ]
     },
     "execution_count": 6,
     "metadata": {},
     "output_type": "execute_result"
    }
   ],
   "source": [
    "2 ** 2 ** 3 # Python operates from right "
   ]
  },
  {
   "cell_type": "code",
   "execution_count": 11,
   "id": "f994ce33",
   "metadata": {},
   "outputs": [
    {
     "name": "stdout",
     "output_type": "stream",
     "text": [
      "Hello world!!.key word argument at work\n",
      "your first name is-Var-Welcome!\n",
      "your first name is-Var-Welcome!."
     ]
    }
   ],
   "source": [
    "print('Hello world!!', end='.') \n",
    "# end is a keyword/named arguments. They are used at the end of a function invokation, they are optional. \n",
    "# Default is a new line, overriding with '.'\n",
    "print('key word argument at work')\n",
    "# sep is a separator\n",
    "first_name = 'Var'\n",
    "print('your first name is',first_name,'Welcome!',sep='-')\n",
    "print('your first name is',first_name,'Welcome!',sep='-',end='.')"
   ]
  },
  {
   "cell_type": "code",
   "execution_count": 12,
   "id": "e553271d",
   "metadata": {},
   "outputs": [
    {
     "ename": "SyntaxError",
     "evalue": "invalid syntax (1359454796.py, line 2)",
     "output_type": "error",
     "traceback": [
      "\u001b[0;36m  Input \u001b[0;32mIn [12]\u001b[0;36m\u001b[0m\n\u001b[0;31m    &\u001b[0m\n\u001b[0m    ^\u001b[0m\n\u001b[0;31mSyntaxError\u001b[0m\u001b[0;31m:\u001b[0m invalid syntax\n"
     ]
    }
   ],
   "source": [
    "#bit wise operators\n",
    "&\n",
    "|\n",
    "~\n",
    "^\n",
    "<<\n",
    ">>"
   ]
  },
  {
   "cell_type": "code",
   "execution_count": 25,
   "id": "67f9dee9",
   "metadata": {},
   "outputs": [
    {
     "name": "stdout",
     "output_type": "stream",
     "text": [
      "0\n",
      "1\n",
      "1\n",
      "-1\n"
     ]
    },
    {
     "data": {
      "text/plain": [
       "96"
      ]
     },
     "execution_count": 25,
     "metadata": {},
     "output_type": "execute_result"
    }
   ],
   "source": [
    "first = 1\n",
    "second = 0\n",
    "\n",
    "print(first & second)\n",
    "print(first | second)\n",
    "print(first ^ second)\n",
    "print(~second) # x = -x-1 ; ~ 1 would be -2\n",
    "12 >> 1 # 6\n",
    "\n",
    "12 << 1 # 24\n",
    "\n",
    "12 << 2 # 48\n",
    "\n",
    "12 >> 2 # 3\n",
    "\n",
    "12 << 3 # 96"
   ]
  },
  {
   "cell_type": "code",
   "execution_count": null,
   "id": "920e3cd4",
   "metadata": {},
   "outputs": [],
   "source": []
  }
 ],
 "metadata": {
  "kernelspec": {
   "display_name": "Python 3 (ipykernel)",
   "language": "python",
   "name": "python3"
  },
  "language_info": {
   "codemirror_mode": {
    "name": "ipython",
    "version": 3
   },
   "file_extension": ".py",
   "mimetype": "text/x-python",
   "name": "python",
   "nbconvert_exporter": "python",
   "pygments_lexer": "ipython3",
   "version": "3.9.12"
  }
 },
 "nbformat": 4,
 "nbformat_minor": 5
}
