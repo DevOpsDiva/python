{
 "cells": [
  {
   "cell_type": "code",
   "execution_count": 3,
   "id": "489a609f",
   "metadata": {},
   "outputs": [
    {
     "name": "stdout",
     "output_type": "stream",
     "text": [
      "hello world!\n",
      "test\n"
     ]
    }
   ],
   "source": [
    "print ('hello world!')\n",
    "print ('test')"
   ]
  },
  {
   "cell_type": "code",
   "execution_count": 4,
   "id": "82ea32f7",
   "metadata": {},
   "outputs": [
    {
     "name": "stdout",
     "output_type": "stream",
     "text": [
      "3.45e-16\n"
     ]
    }
   ],
   "source": [
    "print(.000000000000000345)"
   ]
  },
  {
   "cell_type": "code",
   "execution_count": 5,
   "id": "d3a0bb06",
   "metadata": {},
   "outputs": [
    {
     "name": "stdout",
     "output_type": "stream",
     "text": [
      "83\n"
     ]
    }
   ],
   "source": [
    "print(0o123)"
   ]
  },
  {
   "cell_type": "code",
   "execution_count": 6,
   "id": "53b67b90",
   "metadata": {},
   "outputs": [
    {
     "name": "stdout",
     "output_type": "stream",
     "text": [
      "4674\n"
     ]
    }
   ],
   "source": [
    "print(0x1242)"
   ]
  },
  {
   "cell_type": "code",
   "execution_count": 7,
   "id": "bb1c408d",
   "metadata": {},
   "outputs": [
    {
     "data": {
      "text/plain": [
       "1"
      ]
     },
     "execution_count": 7,
     "metadata": {},
     "output_type": "execute_result"
    }
   ],
   "source": [
    "5-4"
   ]
  },
  {
   "cell_type": "code",
   "execution_count": 8,
   "id": "0c77598f",
   "metadata": {},
   "outputs": [
    {
     "data": {
      "text/plain": [
       "5"
      ]
     },
     "execution_count": 8,
     "metadata": {},
     "output_type": "execute_result"
    }
   ],
   "source": [
    "2+3"
   ]
  },
  {
   "cell_type": "code",
   "execution_count": 9,
   "id": "583a8512",
   "metadata": {},
   "outputs": [
    {
     "data": {
      "text/plain": [
       "3.5"
      ]
     },
     "execution_count": 9,
     "metadata": {},
     "output_type": "execute_result"
    }
   ],
   "source": [
    "#standard division\n",
    "7/2"
   ]
  },
  {
   "cell_type": "code",
   "execution_count": 11,
   "id": "77e648ca",
   "metadata": {},
   "outputs": [
    {
     "data": {
      "text/plain": [
       "3"
      ]
     },
     "execution_count": 11,
     "metadata": {},
     "output_type": "execute_result"
    }
   ],
   "source": [
    "#integer division - lowest whole number\n",
    "7//2"
   ]
  },
  {
   "cell_type": "code",
   "execution_count": 13,
   "id": "f4d4fd4f",
   "metadata": {},
   "outputs": [
    {
     "data": {
      "text/plain": [
       "1"
      ]
     },
     "execution_count": 13,
     "metadata": {},
     "output_type": "execute_result"
    }
   ],
   "source": [
    "# modulus division \n",
    "7%2"
   ]
  },
  {
   "cell_type": "code",
   "execution_count": 14,
   "id": "b571d6d0",
   "metadata": {},
   "outputs": [
    {
     "data": {
      "text/plain": [
       "0"
      ]
     },
     "execution_count": 14,
     "metadata": {},
     "output_type": "execute_result"
    }
   ],
   "source": [
    "# modulus division \n",
    "6%2"
   ]
  },
  {
   "cell_type": "code",
   "execution_count": 15,
   "id": "092fed20",
   "metadata": {},
   "outputs": [
    {
     "data": {
      "text/plain": [
       "8"
      ]
     },
     "execution_count": 15,
     "metadata": {},
     "output_type": "execute_result"
    }
   ],
   "source": [
    "# power operator\n",
    "2 ** 3"
   ]
  },
  {
   "cell_type": "code",
   "execution_count": 16,
   "id": "35cf8ef0",
   "metadata": {},
   "outputs": [
    {
     "data": {
      "text/plain": [
       "5.0"
      ]
     },
     "execution_count": 16,
     "metadata": {},
     "output_type": "execute_result"
    }
   ],
   "source": [
    "2+3.0"
   ]
  },
  {
   "cell_type": "code",
   "execution_count": 18,
   "id": "858e613c",
   "metadata": {
    "scrolled": true
   },
   "outputs": [
    {
     "name": "stdout",
     "output_type": "stream",
     "text": [
      "your income is 200\n"
     ]
    }
   ],
   "source": [
    "income=200\n",
    "print('your income is', income)"
   ]
  },
  {
   "cell_type": "code",
   "execution_count": 1,
   "id": "e68b75d5",
   "metadata": {},
   "outputs": [
    {
     "data": {
      "text/plain": [
       "2.5"
      ]
     },
     "execution_count": 1,
     "metadata": {},
     "output_type": "execute_result"
    }
   ],
   "source": [
    "5/2"
   ]
  },
  {
   "cell_type": "code",
   "execution_count": 2,
   "id": "7697ced9",
   "metadata": {},
   "outputs": [
    {
     "data": {
      "text/plain": [
       "2"
      ]
     },
     "execution_count": 2,
     "metadata": {},
     "output_type": "execute_result"
    }
   ],
   "source": [
    "5//2"
   ]
  },
  {
   "cell_type": "code",
   "execution_count": 3,
   "id": "b406bcad",
   "metadata": {},
   "outputs": [
    {
     "name": "stdout",
     "output_type": "stream",
     "text": [
      "testtesttesttesttest\n"
     ]
    }
   ],
   "source": [
    "print('test' * 5)"
   ]
  },
  {
   "cell_type": "code",
   "execution_count": 7,
   "id": "a2157c93",
   "metadata": {},
   "outputs": [
    {
     "name": "stdout",
     "output_type": "stream",
     "text": [
      "whats your name?\n",
      "S\n",
      "Hello,  S\n",
      "whats your name?\n",
      "S\n",
      "Hello, S\n"
     ]
    }
   ],
   "source": [
    "#input()\n",
    "print('whats your name?')\n",
    "user_name = input();\n",
    "print('Hello, ',user_name)\n",
    "user_name = input('whats your name?\\n') #Always taken as string\n",
    "print('Hello,', user_name)"
   ]
  },
  {
   "cell_type": "code",
   "execution_count": 8,
   "id": "d64436ba",
   "metadata": {},
   "outputs": [
    {
     "name": "stdout",
     "output_type": "stream",
     "text": [
      "54.0\n"
     ]
    }
   ],
   "source": [
    "magical_number = 3 ** 3\n",
    "magical_number *= 2.\n",
    "print(magical_number)"
   ]
  },
  {
   "cell_type": "code",
   "execution_count": null,
   "id": "fa4455d6",
   "metadata": {},
   "outputs": [],
   "source": []
  }
 ],
 "metadata": {
  "kernelspec": {
   "display_name": "Python 3 (ipykernel)",
   "language": "python",
   "name": "python3"
  },
  "language_info": {
   "codemirror_mode": {
    "name": "ipython",
    "version": 3
   },
   "file_extension": ".py",
   "mimetype": "text/x-python",
   "name": "python",
   "nbconvert_exporter": "python",
   "pygments_lexer": "ipython3",
   "version": "3.9.12"
  }
 },
 "nbformat": 4,
 "nbformat_minor": 5
}
